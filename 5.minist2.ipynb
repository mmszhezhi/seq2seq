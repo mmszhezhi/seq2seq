{
 "cells": [
  {
   "cell_type": "code",
   "execution_count": 1,
   "id": "passing-baker",
   "metadata": {},
   "outputs": [
    {
     "data": {
      "text/plain": [
       "device(type='cuda')"
      ]
     },
     "execution_count": 1,
     "metadata": {},
     "output_type": "execute_result"
    }
   ],
   "source": [
    "import torch\n",
    "device = torch.device('cuda' if torch.cuda.is_available() else 'cpu')\n",
    "device"
   ]
  },
  {
   "cell_type": "code",
   "execution_count": 4,
   "id": "unusual-seeking",
   "metadata": {},
   "outputs": [],
   "source": [
    "from torchvision import datasets\n",
    "from torchvision.transforms import ToTensor\n",
    "train_data = datasets.MNIST(\n",
    "    root = 'data',\n",
    "    train = True,                         \n",
    "    transform = ToTensor(), \n",
    "    download = True,            \n",
    ")\n",
    "test_data = datasets.MNIST(\n",
    "    root = 'data', \n",
    "    train = False, \n",
    "    transform = ToTensor()\n",
    ")"
   ]
  },
  {
   "cell_type": "code",
   "execution_count": 5,
   "id": "invisible-setting",
   "metadata": {},
   "outputs": [
    {
     "name": "stdout",
     "output_type": "stream",
     "text": [
      "Dataset MNIST\n",
      "    Number of datapoints: 60000\n",
      "    Root location: data\n",
      "    Split: Train\n",
      "    StandardTransform\n",
      "Transform: ToTensor()\n"
     ]
    }
   ],
   "source": [
    "print(train_data)"
   ]
  },
  {
   "cell_type": "code",
   "execution_count": 6,
   "id": "delayed-controversy",
   "metadata": {},
   "outputs": [
    {
     "name": "stdout",
     "output_type": "stream",
     "text": [
      "torch.Size([60000, 28, 28])\n"
     ]
    }
   ],
   "source": [
    "print(train_data.data.size())"
   ]
  },
  {
   "cell_type": "code",
   "execution_count": 7,
   "id": "opened-diagram",
   "metadata": {},
   "outputs": [],
   "source": [
    "from torch.utils.data import DataLoader\n",
    "loaders = {\n",
    "    'train' : torch.utils.data.DataLoader(train_data, \n",
    "                                          batch_size=100, \n",
    "                                          shuffle=True, \n",
    "                                          num_workers=1),\n",
    "    \n",
    "    'test'  : torch.utils.data.DataLoader(test_data, \n",
    "                                          batch_size=100, \n",
    "                                          shuffle=True, \n",
    "                                          num_workers=1),\n",
    "}"
   ]
  },
  {
   "cell_type": "code",
   "execution_count": 8,
   "id": "harmful-morris",
   "metadata": {},
   "outputs": [],
   "source": [
    "import torch.nn as nn\n",
    "class CNN(nn.Module):\n",
    "    def __init__(self):\n",
    "        super(CNN, self).__init__()\n",
    "        self.conv1 = nn.Sequential(         \n",
    "            nn.Conv2d(\n",
    "                in_channels=1,              \n",
    "                out_channels=16,            \n",
    "                kernel_size=5,              \n",
    "                stride=1,                   \n",
    "                padding=2,                  \n",
    "            ),                              \n",
    "            nn.ReLU(),                      \n",
    "            nn.MaxPool2d(kernel_size=2),    \n",
    "        )\n",
    "        self.conv2 = nn.Sequential(         \n",
    "            nn.Conv2d(16, 32, 5, 1, 2),     \n",
    "            nn.ReLU(),                      \n",
    "            nn.MaxPool2d(2),                \n",
    "        )\n",
    "        # fully connected layer, output 10 classes\n",
    "        self.out = nn.Linear(32 * 7 * 7, 10)\n",
    "    def forward(self, x):\n",
    "        x = self.conv1(x)\n",
    "        x = self.conv2(x)\n",
    "        # flatten the output of conv2 to (batch_size, 32 * 7 * 7)\n",
    "        x = x.view(x.size(0), -1)       \n",
    "        output = self.out(x)\n",
    "        return output, x    # return x for visualization"
   ]
  },
  {
   "cell_type": "code",
   "execution_count": 9,
   "id": "baking-intake",
   "metadata": {},
   "outputs": [
    {
     "name": "stdout",
     "output_type": "stream",
     "text": [
      "CNN(\n",
      "  (conv1): Sequential(\n",
      "    (0): Conv2d(1, 16, kernel_size=(5, 5), stride=(1, 1), padding=(2, 2))\n",
      "    (1): ReLU()\n",
      "    (2): MaxPool2d(kernel_size=2, stride=2, padding=0, dilation=1, ceil_mode=False)\n",
      "  )\n",
      "  (conv2): Sequential(\n",
      "    (0): Conv2d(16, 32, kernel_size=(5, 5), stride=(1, 1), padding=(2, 2))\n",
      "    (1): ReLU()\n",
      "    (2): MaxPool2d(kernel_size=2, stride=2, padding=0, dilation=1, ceil_mode=False)\n",
      "  )\n",
      "  (out): Linear(in_features=1568, out_features=10, bias=True)\n",
      ")\n"
     ]
    }
   ],
   "source": [
    "cnn = CNN()\n",
    "print(cnn)"
   ]
  },
  {
   "cell_type": "code",
   "execution_count": 10,
   "id": "latest-praise",
   "metadata": {},
   "outputs": [
    {
     "data": {
      "text/plain": [
       "CrossEntropyLoss()"
      ]
     },
     "execution_count": 10,
     "metadata": {},
     "output_type": "execute_result"
    }
   ],
   "source": [
    "loss_func = nn.CrossEntropyLoss()   \n",
    "loss_func"
   ]
  },
  {
   "cell_type": "code",
   "execution_count": 11,
   "id": "forbidden-finnish",
   "metadata": {},
   "outputs": [
    {
     "data": {
      "text/plain": [
       "Adam (\n",
       "Parameter Group 0\n",
       "    amsgrad: False\n",
       "    betas: (0.9, 0.999)\n",
       "    eps: 1e-08\n",
       "    lr: 0.01\n",
       "    weight_decay: 0\n",
       ")"
      ]
     },
     "execution_count": 11,
     "metadata": {},
     "output_type": "execute_result"
    }
   ],
   "source": [
    "from torch import optim\n",
    "optimizer = optim.Adam(cnn.parameters(), lr = 0.01)   \n",
    "optimizer"
   ]
  },
  {
   "cell_type": "code",
   "execution_count": 12,
   "id": "regional-berry",
   "metadata": {},
   "outputs": [
    {
     "name": "stdout",
     "output_type": "stream",
     "text": [
      "Epoch [1/10], Step [100/600], Loss: 0.1552\n",
      "Epoch [1/10], Step [200/600], Loss: 0.1420\n",
      "Epoch [1/10], Step [300/600], Loss: 0.1071\n",
      "Epoch [1/10], Step [400/600], Loss: 0.1467\n",
      "Epoch [1/10], Step [500/600], Loss: 0.0181\n",
      "Epoch [1/10], Step [600/600], Loss: 0.1056\n",
      "Epoch [2/10], Step [100/600], Loss: 0.0461\n",
      "Epoch [2/10], Step [200/600], Loss: 0.0678\n",
      "Epoch [2/10], Step [300/600], Loss: 0.0399\n",
      "Epoch [2/10], Step [400/600], Loss: 0.0161\n",
      "Epoch [2/10], Step [500/600], Loss: 0.0843\n",
      "Epoch [2/10], Step [600/600], Loss: 0.0449\n",
      "Epoch [3/10], Step [100/600], Loss: 0.0167\n",
      "Epoch [3/10], Step [200/600], Loss: 0.0107\n",
      "Epoch [3/10], Step [300/600], Loss: 0.0687\n",
      "Epoch [3/10], Step [400/600], Loss: 0.0468\n",
      "Epoch [3/10], Step [500/600], Loss: 0.0491\n",
      "Epoch [3/10], Step [600/600], Loss: 0.0061\n",
      "Epoch [4/10], Step [100/600], Loss: 0.0092\n",
      "Epoch [4/10], Step [200/600], Loss: 0.0243\n",
      "Epoch [4/10], Step [300/600], Loss: 0.0206\n",
      "Epoch [4/10], Step [400/600], Loss: 0.0176\n",
      "Epoch [4/10], Step [500/600], Loss: 0.0338\n",
      "Epoch [4/10], Step [600/600], Loss: 0.0205\n",
      "Epoch [5/10], Step [100/600], Loss: 0.0523\n",
      "Epoch [5/10], Step [200/600], Loss: 0.0159\n",
      "Epoch [5/10], Step [300/600], Loss: 0.0186\n",
      "Epoch [5/10], Step [400/600], Loss: 0.1009\n",
      "Epoch [5/10], Step [500/600], Loss: 0.0099\n",
      "Epoch [5/10], Step [600/600], Loss: 0.0093\n",
      "Epoch [6/10], Step [100/600], Loss: 0.0603\n",
      "Epoch [6/10], Step [200/600], Loss: 0.0191\n",
      "Epoch [6/10], Step [300/600], Loss: 0.0088\n",
      "Epoch [6/10], Step [400/600], Loss: 0.0143\n",
      "Epoch [6/10], Step [500/600], Loss: 0.0334\n",
      "Epoch [6/10], Step [600/600], Loss: 0.0284\n",
      "Epoch [7/10], Step [100/600], Loss: 0.0256\n",
      "Epoch [7/10], Step [200/600], Loss: 0.0887\n",
      "Epoch [7/10], Step [300/600], Loss: 0.0504\n",
      "Epoch [7/10], Step [400/600], Loss: 0.0010\n",
      "Epoch [7/10], Step [500/600], Loss: 0.0044\n",
      "Epoch [7/10], Step [600/600], Loss: 0.0089\n",
      "Epoch [8/10], Step [100/600], Loss: 0.0766\n",
      "Epoch [8/10], Step [200/600], Loss: 0.0058\n",
      "Epoch [8/10], Step [300/600], Loss: 0.0059\n",
      "Epoch [8/10], Step [400/600], Loss: 0.0143\n",
      "Epoch [8/10], Step [500/600], Loss: 0.1481\n",
      "Epoch [8/10], Step [600/600], Loss: 0.0521\n",
      "Epoch [9/10], Step [100/600], Loss: 0.0378\n",
      "Epoch [9/10], Step [200/600], Loss: 0.0265\n",
      "Epoch [9/10], Step [300/600], Loss: 0.0212\n",
      "Epoch [9/10], Step [400/600], Loss: 0.0547\n",
      "Epoch [9/10], Step [500/600], Loss: 0.0011\n",
      "Epoch [9/10], Step [600/600], Loss: 0.0089\n",
      "Epoch [10/10], Step [100/600], Loss: 0.0019\n",
      "Epoch [10/10], Step [200/600], Loss: 0.0198\n",
      "Epoch [10/10], Step [300/600], Loss: 0.1918\n",
      "Epoch [10/10], Step [400/600], Loss: 0.0045\n",
      "Epoch [10/10], Step [500/600], Loss: 0.0030\n",
      "Epoch [10/10], Step [600/600], Loss: 0.0994\n"
     ]
    }
   ],
   "source": [
    "from torch.autograd import Variable\n",
    "num_epochs = 10\n",
    "def train(num_epochs, cnn, loaders):\n",
    "    cnn.train()\n",
    "    # Train the model\n",
    "    total_step = len(loaders['train'])\n",
    "    for epoch in range(num_epochs):\n",
    "        for i, (images, labels) in enumerate(loaders['train']):\n",
    "            # gives batch data, normalize x when iterate train_loader\n",
    "            b_x = Variable(images)   # batch x\n",
    "            b_y = Variable(labels)   # batch y\n",
    "            output = cnn(b_x)[0]               \n",
    "            loss = loss_func(output, b_y)\n",
    "            \n",
    "            # clear gradients for this training step   \n",
    "            optimizer.zero_grad()           \n",
    "            \n",
    "            # backpropagation, compute gradients \n",
    "            loss.backward()    \n",
    "            # apply gradients             \n",
    "            optimizer.step()                \n",
    "            \n",
    "            if (i+1) % 100 == 0:\n",
    "                print ('Epoch [{}/{}], Step [{}/{}], Loss: {:.4f}'.format(epoch + 1, num_epochs, i + 1, total_step, loss.item()))\n",
    "train(num_epochs, cnn, loaders)"
   ]
  },
  {
   "cell_type": "code",
   "execution_count": 13,
   "id": "instructional-waterproof",
   "metadata": {},
   "outputs": [
    {
     "name": "stdout",
     "output_type": "stream",
     "text": [
      "Test Accuracy of the model on the 10000 test images: 0.99\n",
      "Test Accuracy of the model on the 10000 test images: 0.97\n",
      "Test Accuracy of the model on the 10000 test images: 0.97\n",
      "Test Accuracy of the model on the 10000 test images: 0.97\n",
      "Test Accuracy of the model on the 10000 test images: 0.99\n",
      "Test Accuracy of the model on the 10000 test images: 1.00\n",
      "Test Accuracy of the model on the 10000 test images: 0.99\n",
      "Test Accuracy of the model on the 10000 test images: 0.99\n",
      "Test Accuracy of the model on the 10000 test images: 0.99\n",
      "Test Accuracy of the model on the 10000 test images: 1.00\n",
      "Test Accuracy of the model on the 10000 test images: 0.98\n",
      "Test Accuracy of the model on the 10000 test images: 0.99\n",
      "Test Accuracy of the model on the 10000 test images: 0.99\n",
      "Test Accuracy of the model on the 10000 test images: 0.99\n",
      "Test Accuracy of the model on the 10000 test images: 0.98\n",
      "Test Accuracy of the model on the 10000 test images: 0.98\n",
      "Test Accuracy of the model on the 10000 test images: 1.00\n",
      "Test Accuracy of the model on the 10000 test images: 0.96\n",
      "Test Accuracy of the model on the 10000 test images: 0.98\n",
      "Test Accuracy of the model on the 10000 test images: 0.99\n",
      "Test Accuracy of the model on the 10000 test images: 0.97\n",
      "Test Accuracy of the model on the 10000 test images: 0.97\n",
      "Test Accuracy of the model on the 10000 test images: 0.98\n",
      "Test Accuracy of the model on the 10000 test images: 0.99\n",
      "Test Accuracy of the model on the 10000 test images: 0.99\n",
      "Test Accuracy of the model on the 10000 test images: 0.98\n",
      "Test Accuracy of the model on the 10000 test images: 1.00\n",
      "Test Accuracy of the model on the 10000 test images: 0.97\n",
      "Test Accuracy of the model on the 10000 test images: 0.98\n",
      "Test Accuracy of the model on the 10000 test images: 0.96\n",
      "Test Accuracy of the model on the 10000 test images: 0.98\n",
      "Test Accuracy of the model on the 10000 test images: 0.98\n",
      "Test Accuracy of the model on the 10000 test images: 0.98\n",
      "Test Accuracy of the model on the 10000 test images: 0.99\n",
      "Test Accuracy of the model on the 10000 test images: 0.99\n",
      "Test Accuracy of the model on the 10000 test images: 1.00\n",
      "Test Accuracy of the model on the 10000 test images: 0.99\n",
      "Test Accuracy of the model on the 10000 test images: 0.96\n",
      "Test Accuracy of the model on the 10000 test images: 0.98\n",
      "Test Accuracy of the model on the 10000 test images: 0.98\n",
      "Test Accuracy of the model on the 10000 test images: 1.00\n",
      "Test Accuracy of the model on the 10000 test images: 0.99\n",
      "Test Accuracy of the model on the 10000 test images: 0.99\n",
      "Test Accuracy of the model on the 10000 test images: 1.00\n",
      "Test Accuracy of the model on the 10000 test images: 1.00\n",
      "Test Accuracy of the model on the 10000 test images: 0.98\n",
      "Test Accuracy of the model on the 10000 test images: 0.95\n",
      "Test Accuracy of the model on the 10000 test images: 0.98\n",
      "Test Accuracy of the model on the 10000 test images: 1.00\n",
      "Test Accuracy of the model on the 10000 test images: 1.00\n",
      "Test Accuracy of the model on the 10000 test images: 0.98\n",
      "Test Accuracy of the model on the 10000 test images: 1.00\n",
      "Test Accuracy of the model on the 10000 test images: 0.97\n",
      "Test Accuracy of the model on the 10000 test images: 0.98\n",
      "Test Accuracy of the model on the 10000 test images: 0.99\n",
      "Test Accuracy of the model on the 10000 test images: 0.98\n",
      "Test Accuracy of the model on the 10000 test images: 0.99\n",
      "Test Accuracy of the model on the 10000 test images: 0.96\n",
      "Test Accuracy of the model on the 10000 test images: 0.96\n",
      "Test Accuracy of the model on the 10000 test images: 0.97\n",
      "Test Accuracy of the model on the 10000 test images: 0.98\n",
      "Test Accuracy of the model on the 10000 test images: 0.99\n",
      "Test Accuracy of the model on the 10000 test images: 0.99\n",
      "Test Accuracy of the model on the 10000 test images: 0.98\n",
      "Test Accuracy of the model on the 10000 test images: 1.00\n",
      "Test Accuracy of the model on the 10000 test images: 0.99\n",
      "Test Accuracy of the model on the 10000 test images: 0.99\n",
      "Test Accuracy of the model on the 10000 test images: 0.97\n",
      "Test Accuracy of the model on the 10000 test images: 0.99\n",
      "Test Accuracy of the model on the 10000 test images: 0.97\n",
      "Test Accuracy of the model on the 10000 test images: 0.99\n",
      "Test Accuracy of the model on the 10000 test images: 0.98\n",
      "Test Accuracy of the model on the 10000 test images: 0.99\n",
      "Test Accuracy of the model on the 10000 test images: 1.00\n",
      "Test Accuracy of the model on the 10000 test images: 0.98\n",
      "Test Accuracy of the model on the 10000 test images: 0.99\n",
      "Test Accuracy of the model on the 10000 test images: 0.99\n",
      "Test Accuracy of the model on the 10000 test images: 0.97\n",
      "Test Accuracy of the model on the 10000 test images: 0.97\n",
      "Test Accuracy of the model on the 10000 test images: 1.00\n",
      "Test Accuracy of the model on the 10000 test images: 0.96\n",
      "Test Accuracy of the model on the 10000 test images: 0.99\n",
      "Test Accuracy of the model on the 10000 test images: 0.99\n",
      "Test Accuracy of the model on the 10000 test images: 1.00\n",
      "Test Accuracy of the model on the 10000 test images: 1.00\n",
      "Test Accuracy of the model on the 10000 test images: 1.00\n",
      "Test Accuracy of the model on the 10000 test images: 0.99\n",
      "Test Accuracy of the model on the 10000 test images: 1.00\n",
      "Test Accuracy of the model on the 10000 test images: 0.99\n",
      "Test Accuracy of the model on the 10000 test images: 0.98\n",
      "Test Accuracy of the model on the 10000 test images: 0.99\n",
      "Test Accuracy of the model on the 10000 test images: 0.97\n",
      "Test Accuracy of the model on the 10000 test images: 0.96\n",
      "Test Accuracy of the model on the 10000 test images: 0.96\n",
      "Test Accuracy of the model on the 10000 test images: 0.97\n",
      "Test Accuracy of the model on the 10000 test images: 0.98\n",
      "Test Accuracy of the model on the 10000 test images: 0.99\n",
      "Test Accuracy of the model on the 10000 test images: 1.00\n",
      "Test Accuracy of the model on the 10000 test images: 0.99\n",
      "Test Accuracy of the model on the 10000 test images: 1.00\n"
     ]
    }
   ],
   "source": [
    "def test():\n",
    "    # Test the model\n",
    "    cnn.eval()\n",
    "    with torch.no_grad():\n",
    "        correct = 0\n",
    "        total = 0\n",
    "        for images, labels in loaders['test']:\n",
    "            test_output, last_layer = cnn(images)\n",
    "            pred_y = torch.max(test_output, 1)[1].data.squeeze()\n",
    "            accuracy = (pred_y == labels).sum().item() / float(labels.size(0))\n",
    "            print('Test Accuracy of the model on the 10000 test images: %.2f' % accuracy)\n",
    "test()"
   ]
  },
  {
   "cell_type": "code",
   "execution_count": null,
   "id": "capable-colony",
   "metadata": {},
   "outputs": [],
   "source": []
  }
 ],
 "metadata": {
  "kernelspec": {
   "display_name": "Python 3",
   "language": "python",
   "name": "python3"
  },
  "language_info": {
   "codemirror_mode": {
    "name": "ipython",
    "version": 3
   },
   "file_extension": ".py",
   "mimetype": "text/x-python",
   "name": "python",
   "nbconvert_exporter": "python",
   "pygments_lexer": "ipython3",
   "version": "3.6.8"
  }
 },
 "nbformat": 4,
 "nbformat_minor": 5
}
