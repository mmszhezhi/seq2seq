{
 "cells": [
  {
   "cell_type": "code",
   "execution_count": 1,
   "id": "secondary-award",
   "metadata": {},
   "outputs": [],
   "source": [
    "import torch\n",
    "import torchvision"
   ]
  },
  {
   "cell_type": "code",
   "execution_count": 97,
   "id": "prescribed-habitat",
   "metadata": {},
   "outputs": [],
   "source": [
    "import os\n",
    "n_epochs = 3\n",
    "batch_size_train = 64\n",
    "batch_size_test = 1000\n",
    "learning_rate = 0.01\n",
    "momentum = 0.5\n",
    "log_interval = 10\n",
    "cwd = os.getcwd()\n",
    "savepath = os.path.join(cwd,\"results\")\n",
    "random_seed = 1\n",
    "torch.backends.cudnn.enabled = True\n",
    "device = torch.device(\"cuda:0\" if torch.cuda.is_available() else \"cpu\")\n",
    "torch.manual_seed(random_seed)\n",
    "from datetime import datetime\n",
    "import time"
   ]
  },
  {
   "cell_type": "code",
   "execution_count": 92,
   "id": "removed-garage",
   "metadata": {},
   "outputs": [
    {
     "data": {
      "text/plain": [
       "device(type='cuda', index=0)"
      ]
     },
     "execution_count": 92,
     "metadata": {},
     "output_type": "execute_result"
    }
   ],
   "source": [
    "device"
   ]
  },
  {
   "cell_type": "code",
   "execution_count": 74,
   "id": "dynamic-workstation",
   "metadata": {
    "scrolled": true
   },
   "outputs": [],
   "source": [
    "train_loader = torch.utils.data.DataLoader(\n",
    "  torchvision.datasets.MNIST('/data/', train=True, download=True,\n",
    "                             transform=torchvision.transforms.Compose([\n",
    "                               torchvision.transforms.ToTensor(),\n",
    "                               torchvision.transforms.Normalize(\n",
    "                                 (0.1307,), (0.3081,))\n",
    "                             ])),\n",
    "  batch_size=batch_size_train, pin_memory=True,shuffle=True)\n",
    "\n",
    "test_loader = torch.utils.data.DataLoader(\n",
    "  torchvision.datasets.MNIST('/data/', train=False, download=True,\n",
    "                             transform=torchvision.transforms.Compose([\n",
    "                               torchvision.transforms.ToTensor(),\n",
    "                               torchvision.transforms.Normalize(\n",
    "                                 (0.1307,), (0.3081,))\n",
    "                             ])),\n",
    "  batch_size=batch_size_test, pin_memory=True,shuffle=True)"
   ]
  },
  {
   "cell_type": "code",
   "execution_count": 75,
   "id": "regular-binding",
   "metadata": {},
   "outputs": [],
   "source": [
    "examples = enumerate(test_loader)\n",
    "batch_idx, (example_data, example_targets) = next(examples)"
   ]
  },
  {
   "cell_type": "code",
   "execution_count": 76,
   "id": "different-martial",
   "metadata": {},
   "outputs": [
    {
     "data": {
      "text/plain": [
       "torch.Size([1000, 1, 28, 28])"
      ]
     },
     "execution_count": 76,
     "metadata": {},
     "output_type": "execute_result"
    }
   ],
   "source": [
    "example_data.shape"
   ]
  },
  {
   "cell_type": "code",
   "execution_count": 77,
   "id": "demographic-slovak",
   "metadata": {},
   "outputs": [],
   "source": [
    "# import matplotlib.pyplot as plt\n",
    "# fig = plt.figure()\n",
    "# for i in range(6):\n",
    "#   plt.subplot(2,3,i+1)\n",
    "#   plt.tight_layout()\n",
    "#   plt.imshow(example_data[i][0], cmap='gray', interpolation='none')\n",
    "#   plt.title(\"Ground Truth: {}\".format(example_targets[i]))\n",
    "#   plt.xticks([])\n",
    "#   plt.yticks([])\n",
    "# fig\n"
   ]
  },
  {
   "cell_type": "code",
   "execution_count": 78,
   "id": "average-sweden",
   "metadata": {},
   "outputs": [],
   "source": [
    "import torch.nn as nn\n",
    "import torch.nn.functional as F\n",
    "import torch.optim as optim"
   ]
  },
  {
   "cell_type": "code",
   "execution_count": 79,
   "id": "junior-penalty",
   "metadata": {},
   "outputs": [],
   "source": [
    "class Net(nn.Module):\n",
    "    def __init__(self):\n",
    "        super(Net, self).__init__()\n",
    "        self.conv1 = nn.Conv2d(1, 10, kernel_size=5)\n",
    "        self.conv2 = nn.Conv2d(10, 20, kernel_size=5)\n",
    "        self.conv2_drop = nn.Dropout2d()\n",
    "        self.fc1 = nn.Linear(320, 50)\n",
    "        self.fc2 = nn.Linear(50, 10)\n",
    "\n",
    "    def forward(self, x):\n",
    "        x = F.relu(F.max_pool2d(self.conv1(x), 2))\n",
    "        x = F.relu(F.max_pool2d(self.conv2_drop(self.conv2(x)), 2))\n",
    "        x = x.view(-1, 320)\n",
    "        x = F.relu(self.fc1(x))\n",
    "        x = F.dropout(x, training=self.training)\n",
    "        x = self.fc2(x)\n",
    "        return F.log_softmax(x)"
   ]
  },
  {
   "cell_type": "code",
   "execution_count": 80,
   "id": "small-jewel",
   "metadata": {},
   "outputs": [],
   "source": [
    "network = Net()\n",
    "network.to(device)\n",
    "optimizer = optim.SGD(network.parameters(), lr=learning_rate,\n",
    "                      momentum=momentum)"
   ]
  },
  {
   "cell_type": "code",
   "execution_count": 81,
   "id": "structured-saturday",
   "metadata": {},
   "outputs": [],
   "source": [
    "train_losses = []\n",
    "train_counter = []\n",
    "test_losses = []\n",
    "test_counter = [i*len(train_loader.dataset) for i in range(n_epochs + 1)]"
   ]
  },
  {
   "cell_type": "code",
   "execution_count": 94,
   "id": "statutory-construction",
   "metadata": {},
   "outputs": [],
   "source": [
    "def train(epoch):\n",
    "  network.train()\n",
    "  for batch_idx, (data, target) in enumerate(train_loader):\n",
    "    optimizer.zero_grad()\n",
    "    data = data.to(device)\n",
    "    target = target.to(device)\n",
    "    output = network(data)\n",
    "    loss = F.nll_loss(output, target)\n",
    "    loss.backward()\n",
    "    optimizer.step()\n",
    "    if batch_idx % log_interval == 0:\n",
    "      print('Train Epoch: {} [{}/{} ({:.0f}%)]\\tLoss: {:.6f}'.format(\n",
    "        epoch, batch_idx * len(data), len(train_loader.dataset),\n",
    "        100. * batch_idx / len(train_loader), loss.item()))\n",
    "      train_losses.append(loss.item())\n",
    "      train_counter.append(\n",
    "        (batch_idx*64) + ((epoch-1)*len(train_loader.dataset)))\n",
    "        \n",
    "      torch.save(network.state_dict(), os.path.join(savepath,'model.pth'))\n",
    "      torch.save(optimizer.state_dict(), os.path.join(savepath,'optimizer.pth'))"
   ]
  },
  {
   "cell_type": "code",
   "execution_count": 95,
   "id": "cheap-return",
   "metadata": {},
   "outputs": [],
   "source": [
    "def test():\n",
    "  network.eval()\n",
    "  test_loss = 0\n",
    "  correct = 0\n",
    "  with torch.no_grad():\n",
    "    for data, target in test_loader:\n",
    "      data = data.to(device)\n",
    "      target = target.to(device)\n",
    "      output = network(data)\n",
    "      test_loss += F.nll_loss(output, target, size_average=False).item()\n",
    "      pred = output.data.max(1, keepdim=True)[1]\n",
    "      correct += pred.eq(target.data.view_as(pred)).sum()\n",
    "  test_loss /= len(test_loader.dataset)\n",
    "  test_losses.append(test_loss)\n",
    "  print('\\nTest set: Avg. loss: {:.4f}, Accuracy: {}/{} ({:.0f}%)\\n'.format(\n",
    "    test_loss, correct, len(test_loader.dataset),\n",
    "    100. * correct / len(test_loader.dataset)))"
   ]
  },
  {
   "cell_type": "code",
   "execution_count": 100,
   "id": "acting-directory",
   "metadata": {
    "scrolled": true
   },
   "outputs": [
    {
     "name": "stderr",
     "output_type": "stream",
     "text": [
      "d:\\envs\\pro\\lib\\site-packages\\ipykernel_launcher.py:17: UserWarning: Implicit dimension choice for log_softmax has been deprecated. Change the call to include dim=X as an argument.\n"
     ]
    },
    {
     "name": "stdout",
     "output_type": "stream",
     "text": [
      "\n",
      "Test set: Avg. loss: 0.0575, Accuracy: 9814/10000 (98%)\n",
      "\n",
      "Train Epoch: 1 [0/60000 (0%)]\tLoss: 0.174850\n",
      "Train Epoch: 1 [640/60000 (1%)]\tLoss: 0.079653\n",
      "Train Epoch: 1 [1280/60000 (2%)]\tLoss: 0.082519\n",
      "Train Epoch: 1 [1920/60000 (3%)]\tLoss: 0.244480\n",
      "Train Epoch: 1 [2560/60000 (4%)]\tLoss: 0.341484\n",
      "Train Epoch: 1 [3200/60000 (5%)]\tLoss: 0.112509\n",
      "Train Epoch: 1 [3840/60000 (6%)]\tLoss: 0.209808\n",
      "Train Epoch: 1 [4480/60000 (7%)]\tLoss: 0.160197\n",
      "Train Epoch: 1 [5120/60000 (9%)]\tLoss: 0.196751\n",
      "Train Epoch: 1 [5760/60000 (10%)]\tLoss: 0.332788\n",
      "Train Epoch: 1 [6400/60000 (11%)]\tLoss: 0.137632\n",
      "Train Epoch: 1 [7040/60000 (12%)]\tLoss: 0.135763\n",
      "Train Epoch: 1 [7680/60000 (13%)]\tLoss: 0.178843\n",
      "Train Epoch: 1 [8320/60000 (14%)]\tLoss: 0.109212\n",
      "Train Epoch: 1 [8960/60000 (15%)]\tLoss: 0.246985\n",
      "Train Epoch: 1 [9600/60000 (16%)]\tLoss: 0.189092\n",
      "Train Epoch: 1 [10240/60000 (17%)]\tLoss: 0.053357\n",
      "Train Epoch: 1 [10880/60000 (18%)]\tLoss: 0.184482\n",
      "Train Epoch: 1 [11520/60000 (19%)]\tLoss: 0.188145\n",
      "Train Epoch: 1 [12160/60000 (20%)]\tLoss: 0.127735\n",
      "Train Epoch: 1 [12800/60000 (21%)]\tLoss: 0.136973\n",
      "Train Epoch: 1 [13440/60000 (22%)]\tLoss: 0.342569\n",
      "Train Epoch: 1 [14080/60000 (23%)]\tLoss: 0.194477\n",
      "Train Epoch: 1 [14720/60000 (25%)]\tLoss: 0.484140\n",
      "Train Epoch: 1 [15360/60000 (26%)]\tLoss: 0.240770\n",
      "Train Epoch: 1 [16000/60000 (27%)]\tLoss: 0.069902\n",
      "Train Epoch: 1 [16640/60000 (28%)]\tLoss: 0.206877\n",
      "Train Epoch: 1 [17280/60000 (29%)]\tLoss: 0.228169\n",
      "Train Epoch: 1 [17920/60000 (30%)]\tLoss: 0.352573\n",
      "Train Epoch: 1 [18560/60000 (31%)]\tLoss: 0.095405\n",
      "Train Epoch: 1 [19200/60000 (32%)]\tLoss: 0.123019\n",
      "Train Epoch: 1 [19840/60000 (33%)]\tLoss: 0.140251\n",
      "Train Epoch: 1 [20480/60000 (34%)]\tLoss: 0.261905\n",
      "Train Epoch: 1 [21120/60000 (35%)]\tLoss: 0.312398\n",
      "Train Epoch: 1 [21760/60000 (36%)]\tLoss: 0.330896\n",
      "Train Epoch: 1 [22400/60000 (37%)]\tLoss: 0.171173\n",
      "Train Epoch: 1 [23040/60000 (38%)]\tLoss: 0.084386\n",
      "Train Epoch: 1 [23680/60000 (39%)]\tLoss: 0.162416\n",
      "Train Epoch: 1 [24320/60000 (41%)]\tLoss: 0.115958\n",
      "Train Epoch: 1 [24960/60000 (42%)]\tLoss: 0.108037\n",
      "Train Epoch: 1 [25600/60000 (43%)]\tLoss: 0.203227\n",
      "Train Epoch: 1 [26240/60000 (44%)]\tLoss: 0.168282\n",
      "Train Epoch: 1 [26880/60000 (45%)]\tLoss: 0.137201\n",
      "Train Epoch: 1 [27520/60000 (46%)]\tLoss: 0.170654\n",
      "Train Epoch: 1 [28160/60000 (47%)]\tLoss: 0.202468\n",
      "Train Epoch: 1 [28800/60000 (48%)]\tLoss: 0.067739\n",
      "Train Epoch: 1 [29440/60000 (49%)]\tLoss: 0.213121\n",
      "Train Epoch: 1 [30080/60000 (50%)]\tLoss: 0.188135\n",
      "Train Epoch: 1 [30720/60000 (51%)]\tLoss: 0.196274\n",
      "Train Epoch: 1 [31360/60000 (52%)]\tLoss: 0.098988\n",
      "Train Epoch: 1 [32000/60000 (53%)]\tLoss: 0.055408\n",
      "Train Epoch: 1 [32640/60000 (54%)]\tLoss: 0.180716\n",
      "Train Epoch: 1 [33280/60000 (55%)]\tLoss: 0.131551\n",
      "Train Epoch: 1 [33920/60000 (57%)]\tLoss: 0.098410\n",
      "Train Epoch: 1 [34560/60000 (58%)]\tLoss: 0.092856\n",
      "Train Epoch: 1 [35200/60000 (59%)]\tLoss: 0.230973\n",
      "Train Epoch: 1 [35840/60000 (60%)]\tLoss: 0.168291\n",
      "Train Epoch: 1 [36480/60000 (61%)]\tLoss: 0.279584\n",
      "Train Epoch: 1 [37120/60000 (62%)]\tLoss: 0.239709\n",
      "Train Epoch: 1 [37760/60000 (63%)]\tLoss: 0.256028\n",
      "Train Epoch: 1 [38400/60000 (64%)]\tLoss: 0.124643\n",
      "Train Epoch: 1 [39040/60000 (65%)]\tLoss: 0.144923\n",
      "Train Epoch: 1 [39680/60000 (66%)]\tLoss: 0.235875\n",
      "Train Epoch: 1 [40320/60000 (67%)]\tLoss: 0.198229\n",
      "Train Epoch: 1 [40960/60000 (68%)]\tLoss: 0.052683\n",
      "Train Epoch: 1 [41600/60000 (69%)]\tLoss: 0.295414\n",
      "Train Epoch: 1 [42240/60000 (70%)]\tLoss: 0.171666\n",
      "Train Epoch: 1 [42880/60000 (71%)]\tLoss: 0.054918\n",
      "Train Epoch: 1 [43520/60000 (72%)]\tLoss: 0.174562\n",
      "Train Epoch: 1 [44160/60000 (74%)]\tLoss: 0.248737\n",
      "Train Epoch: 1 [44800/60000 (75%)]\tLoss: 0.071091\n",
      "Train Epoch: 1 [45440/60000 (76%)]\tLoss: 0.236742\n",
      "Train Epoch: 1 [46080/60000 (77%)]\tLoss: 0.141653\n",
      "Train Epoch: 1 [46720/60000 (78%)]\tLoss: 0.212431\n",
      "Train Epoch: 1 [47360/60000 (79%)]\tLoss: 0.090122\n",
      "Train Epoch: 1 [48000/60000 (80%)]\tLoss: 0.121604\n",
      "Train Epoch: 1 [48640/60000 (81%)]\tLoss: 0.291780\n",
      "Train Epoch: 1 [49280/60000 (82%)]\tLoss: 0.105145\n",
      "Train Epoch: 1 [49920/60000 (83%)]\tLoss: 0.185057\n",
      "Train Epoch: 1 [50560/60000 (84%)]\tLoss: 0.086427\n",
      "Train Epoch: 1 [51200/60000 (85%)]\tLoss: 0.135755\n",
      "Train Epoch: 1 [51840/60000 (86%)]\tLoss: 0.152022\n",
      "Train Epoch: 1 [52480/60000 (87%)]\tLoss: 0.174343\n",
      "Train Epoch: 1 [53120/60000 (88%)]\tLoss: 0.124538\n",
      "Train Epoch: 1 [53760/60000 (90%)]\tLoss: 0.226468\n",
      "Train Epoch: 1 [54400/60000 (91%)]\tLoss: 0.106526\n",
      "Train Epoch: 1 [55040/60000 (92%)]\tLoss: 0.405966\n",
      "Train Epoch: 1 [55680/60000 (93%)]\tLoss: 0.123155\n",
      "Train Epoch: 1 [56320/60000 (94%)]\tLoss: 0.112172\n",
      "Train Epoch: 1 [56960/60000 (95%)]\tLoss: 0.073017\n",
      "Train Epoch: 1 [57600/60000 (96%)]\tLoss: 0.120873\n",
      "Train Epoch: 1 [58240/60000 (97%)]\tLoss: 0.163932\n",
      "Train Epoch: 1 [58880/60000 (98%)]\tLoss: 0.203436\n",
      "Train Epoch: 1 [59520/60000 (99%)]\tLoss: 0.173035\n",
      "\n",
      "Test set: Avg. loss: 0.0563, Accuracy: 9815/10000 (98%)\n",
      "\n",
      "Train Epoch: 2 [0/60000 (0%)]\tLoss: 0.069897\n",
      "Train Epoch: 2 [640/60000 (1%)]\tLoss: 0.132637\n",
      "Train Epoch: 2 [1280/60000 (2%)]\tLoss: 0.131105\n",
      "Train Epoch: 2 [1920/60000 (3%)]\tLoss: 0.294988\n",
      "Train Epoch: 2 [2560/60000 (4%)]\tLoss: 0.045604\n",
      "Train Epoch: 2 [3200/60000 (5%)]\tLoss: 0.101440\n",
      "Train Epoch: 2 [3840/60000 (6%)]\tLoss: 0.160139\n",
      "Train Epoch: 2 [4480/60000 (7%)]\tLoss: 0.072284\n",
      "Train Epoch: 2 [5120/60000 (9%)]\tLoss: 0.266699\n",
      "Train Epoch: 2 [5760/60000 (10%)]\tLoss: 0.184166\n",
      "Train Epoch: 2 [6400/60000 (11%)]\tLoss: 0.130171\n",
      "Train Epoch: 2 [7040/60000 (12%)]\tLoss: 0.230094\n",
      "Train Epoch: 2 [7680/60000 (13%)]\tLoss: 0.087164\n",
      "Train Epoch: 2 [8320/60000 (14%)]\tLoss: 0.083333\n",
      "Train Epoch: 2 [8960/60000 (15%)]\tLoss: 0.147079\n",
      "Train Epoch: 2 [9600/60000 (16%)]\tLoss: 0.202847\n",
      "Train Epoch: 2 [10240/60000 (17%)]\tLoss: 0.205282\n",
      "Train Epoch: 2 [10880/60000 (18%)]\tLoss: 0.203576\n",
      "Train Epoch: 2 [11520/60000 (19%)]\tLoss: 0.252829\n",
      "Train Epoch: 2 [12160/60000 (20%)]\tLoss: 0.164517\n",
      "Train Epoch: 2 [12800/60000 (21%)]\tLoss: 0.334455\n",
      "Train Epoch: 2 [13440/60000 (22%)]\tLoss: 0.110708\n",
      "Train Epoch: 2 [14080/60000 (23%)]\tLoss: 0.173615\n",
      "Train Epoch: 2 [14720/60000 (25%)]\tLoss: 0.107400\n",
      "Train Epoch: 2 [15360/60000 (26%)]\tLoss: 0.081552\n",
      "Train Epoch: 2 [16000/60000 (27%)]\tLoss: 0.087820\n",
      "Train Epoch: 2 [16640/60000 (28%)]\tLoss: 0.080952\n",
      "Train Epoch: 2 [17280/60000 (29%)]\tLoss: 0.248247\n",
      "Train Epoch: 2 [17920/60000 (30%)]\tLoss: 0.158250\n",
      "Train Epoch: 2 [18560/60000 (31%)]\tLoss: 0.131710\n",
      "Train Epoch: 2 [19200/60000 (32%)]\tLoss: 0.094934\n",
      "Train Epoch: 2 [19840/60000 (33%)]\tLoss: 0.135468\n",
      "Train Epoch: 2 [20480/60000 (34%)]\tLoss: 0.125262\n",
      "Train Epoch: 2 [21120/60000 (35%)]\tLoss: 0.121363\n",
      "Train Epoch: 2 [21760/60000 (36%)]\tLoss: 0.064005\n",
      "Train Epoch: 2 [22400/60000 (37%)]\tLoss: 0.183507\n",
      "Train Epoch: 2 [23040/60000 (38%)]\tLoss: 0.307111\n",
      "Train Epoch: 2 [23680/60000 (39%)]\tLoss: 0.162762\n",
      "Train Epoch: 2 [24320/60000 (41%)]\tLoss: 0.060784\n",
      "Train Epoch: 2 [24960/60000 (42%)]\tLoss: 0.155770\n",
      "Train Epoch: 2 [25600/60000 (43%)]\tLoss: 0.064461\n",
      "Train Epoch: 2 [26240/60000 (44%)]\tLoss: 0.123041\n",
      "Train Epoch: 2 [26880/60000 (45%)]\tLoss: 0.166283\n",
      "Train Epoch: 2 [27520/60000 (46%)]\tLoss: 0.257704\n",
      "Train Epoch: 2 [28160/60000 (47%)]\tLoss: 0.293657\n",
      "Train Epoch: 2 [28800/60000 (48%)]\tLoss: 0.194097\n",
      "Train Epoch: 2 [29440/60000 (49%)]\tLoss: 0.197690\n",
      "Train Epoch: 2 [30080/60000 (50%)]\tLoss: 0.065802\n",
      "Train Epoch: 2 [30720/60000 (51%)]\tLoss: 0.284392\n",
      "Train Epoch: 2 [31360/60000 (52%)]\tLoss: 0.140419\n",
      "Train Epoch: 2 [32000/60000 (53%)]\tLoss: 0.175937\n",
      "Train Epoch: 2 [32640/60000 (54%)]\tLoss: 0.162996\n",
      "Train Epoch: 2 [33280/60000 (55%)]\tLoss: 0.145922\n",
      "Train Epoch: 2 [33920/60000 (57%)]\tLoss: 0.177105\n",
      "Train Epoch: 2 [34560/60000 (58%)]\tLoss: 0.217321\n",
      "Train Epoch: 2 [35200/60000 (59%)]\tLoss: 0.106144\n",
      "Train Epoch: 2 [35840/60000 (60%)]\tLoss: 0.152169\n",
      "Train Epoch: 2 [36480/60000 (61%)]\tLoss: 0.072272\n",
      "Train Epoch: 2 [37120/60000 (62%)]\tLoss: 0.201781\n",
      "Train Epoch: 2 [37760/60000 (63%)]\tLoss: 0.197188\n",
      "Train Epoch: 2 [38400/60000 (64%)]\tLoss: 0.241196\n",
      "Train Epoch: 2 [39040/60000 (65%)]\tLoss: 0.209492\n",
      "Train Epoch: 2 [39680/60000 (66%)]\tLoss: 0.162419\n",
      "Train Epoch: 2 [40320/60000 (67%)]\tLoss: 0.165213\n",
      "Train Epoch: 2 [40960/60000 (68%)]\tLoss: 0.309489\n",
      "Train Epoch: 2 [41600/60000 (69%)]\tLoss: 0.212503\n",
      "Train Epoch: 2 [42240/60000 (70%)]\tLoss: 0.150288\n",
      "Train Epoch: 2 [42880/60000 (71%)]\tLoss: 0.209452\n",
      "Train Epoch: 2 [43520/60000 (72%)]\tLoss: 0.122545\n"
     ]
    },
    {
     "name": "stdout",
     "output_type": "stream",
     "text": [
      "Train Epoch: 2 [44160/60000 (74%)]\tLoss: 0.181429\n",
      "Train Epoch: 2 [44800/60000 (75%)]\tLoss: 0.125548\n",
      "Train Epoch: 2 [45440/60000 (76%)]\tLoss: 0.061700\n",
      "Train Epoch: 2 [46080/60000 (77%)]\tLoss: 0.150712\n",
      "Train Epoch: 2 [46720/60000 (78%)]\tLoss: 0.465846\n",
      "Train Epoch: 2 [47360/60000 (79%)]\tLoss: 0.538648\n",
      "Train Epoch: 2 [48000/60000 (80%)]\tLoss: 0.116321\n",
      "Train Epoch: 2 [48640/60000 (81%)]\tLoss: 0.080649\n",
      "Train Epoch: 2 [49280/60000 (82%)]\tLoss: 0.516684\n",
      "Train Epoch: 2 [49920/60000 (83%)]\tLoss: 0.263799\n",
      "Train Epoch: 2 [50560/60000 (84%)]\tLoss: 0.120406\n",
      "Train Epoch: 2 [51200/60000 (85%)]\tLoss: 0.112313\n",
      "Train Epoch: 2 [51840/60000 (86%)]\tLoss: 0.262257\n",
      "Train Epoch: 2 [52480/60000 (87%)]\tLoss: 0.152813\n",
      "Train Epoch: 2 [53120/60000 (88%)]\tLoss: 0.064987\n",
      "Train Epoch: 2 [53760/60000 (90%)]\tLoss: 0.097648\n",
      "Train Epoch: 2 [54400/60000 (91%)]\tLoss: 0.126439\n",
      "Train Epoch: 2 [55040/60000 (92%)]\tLoss: 0.306361\n",
      "Train Epoch: 2 [55680/60000 (93%)]\tLoss: 0.145561\n",
      "Train Epoch: 2 [56320/60000 (94%)]\tLoss: 0.115938\n",
      "Train Epoch: 2 [56960/60000 (95%)]\tLoss: 0.179023\n",
      "Train Epoch: 2 [57600/60000 (96%)]\tLoss: 0.218279\n",
      "Train Epoch: 2 [58240/60000 (97%)]\tLoss: 0.197182\n",
      "Train Epoch: 2 [58880/60000 (98%)]\tLoss: 0.191038\n",
      "Train Epoch: 2 [59520/60000 (99%)]\tLoss: 0.161376\n",
      "\n",
      "Test set: Avg. loss: 0.0543, Accuracy: 9828/10000 (98%)\n",
      "\n",
      "Train Epoch: 3 [0/60000 (0%)]\tLoss: 0.227208\n",
      "Train Epoch: 3 [640/60000 (1%)]\tLoss: 0.383424\n",
      "Train Epoch: 3 [1280/60000 (2%)]\tLoss: 0.203741\n",
      "Train Epoch: 3 [1920/60000 (3%)]\tLoss: 0.229581\n",
      "Train Epoch: 3 [2560/60000 (4%)]\tLoss: 0.150052\n",
      "Train Epoch: 3 [3200/60000 (5%)]\tLoss: 0.247367\n",
      "Train Epoch: 3 [3840/60000 (6%)]\tLoss: 0.360013\n",
      "Train Epoch: 3 [4480/60000 (7%)]\tLoss: 0.086599\n",
      "Train Epoch: 3 [5120/60000 (9%)]\tLoss: 0.073512\n",
      "Train Epoch: 3 [5760/60000 (10%)]\tLoss: 0.291300\n",
      "Train Epoch: 3 [6400/60000 (11%)]\tLoss: 0.192414\n",
      "Train Epoch: 3 [7040/60000 (12%)]\tLoss: 0.147536\n",
      "Train Epoch: 3 [7680/60000 (13%)]\tLoss: 0.181873\n",
      "Train Epoch: 3 [8320/60000 (14%)]\tLoss: 0.227232\n",
      "Train Epoch: 3 [8960/60000 (15%)]\tLoss: 0.223678\n",
      "Train Epoch: 3 [9600/60000 (16%)]\tLoss: 0.112422\n",
      "Train Epoch: 3 [10240/60000 (17%)]\tLoss: 0.208489\n",
      "Train Epoch: 3 [10880/60000 (18%)]\tLoss: 0.117693\n",
      "Train Epoch: 3 [11520/60000 (19%)]\tLoss: 0.218057\n",
      "Train Epoch: 3 [12160/60000 (20%)]\tLoss: 0.041740\n",
      "Train Epoch: 3 [12800/60000 (21%)]\tLoss: 0.301884\n",
      "Train Epoch: 3 [13440/60000 (22%)]\tLoss: 0.340059\n",
      "Train Epoch: 3 [14080/60000 (23%)]\tLoss: 0.103936\n",
      "Train Epoch: 3 [14720/60000 (25%)]\tLoss: 0.316978\n",
      "Train Epoch: 3 [15360/60000 (26%)]\tLoss: 0.255991\n",
      "Train Epoch: 3 [16000/60000 (27%)]\tLoss: 0.087727\n",
      "Train Epoch: 3 [16640/60000 (28%)]\tLoss: 0.149632\n",
      "Train Epoch: 3 [17280/60000 (29%)]\tLoss: 0.228084\n",
      "Train Epoch: 3 [17920/60000 (30%)]\tLoss: 0.210737\n",
      "Train Epoch: 3 [18560/60000 (31%)]\tLoss: 0.162031\n",
      "Train Epoch: 3 [19200/60000 (32%)]\tLoss: 0.225401\n",
      "Train Epoch: 3 [19840/60000 (33%)]\tLoss: 0.088461\n",
      "Train Epoch: 3 [20480/60000 (34%)]\tLoss: 0.198071\n",
      "Train Epoch: 3 [21120/60000 (35%)]\tLoss: 0.064050\n",
      "Train Epoch: 3 [21760/60000 (36%)]\tLoss: 0.145457\n",
      "Train Epoch: 3 [22400/60000 (37%)]\tLoss: 0.182133\n",
      "Train Epoch: 3 [23040/60000 (38%)]\tLoss: 0.212031\n",
      "Train Epoch: 3 [23680/60000 (39%)]\tLoss: 0.148161\n",
      "Train Epoch: 3 [24320/60000 (41%)]\tLoss: 0.082023\n",
      "Train Epoch: 3 [24960/60000 (42%)]\tLoss: 0.222632\n",
      "Train Epoch: 3 [25600/60000 (43%)]\tLoss: 0.324197\n",
      "Train Epoch: 3 [26240/60000 (44%)]\tLoss: 0.110652\n",
      "Train Epoch: 3 [26880/60000 (45%)]\tLoss: 0.077360\n",
      "Train Epoch: 3 [27520/60000 (46%)]\tLoss: 0.211227\n",
      "Train Epoch: 3 [28160/60000 (47%)]\tLoss: 0.074398\n",
      "Train Epoch: 3 [28800/60000 (48%)]\tLoss: 0.222735\n",
      "Train Epoch: 3 [29440/60000 (49%)]\tLoss: 0.162316\n",
      "Train Epoch: 3 [30080/60000 (50%)]\tLoss: 0.245402\n",
      "Train Epoch: 3 [30720/60000 (51%)]\tLoss: 0.155544\n",
      "Train Epoch: 3 [31360/60000 (52%)]\tLoss: 0.218333\n",
      "Train Epoch: 3 [32000/60000 (53%)]\tLoss: 0.189209\n",
      "Train Epoch: 3 [32640/60000 (54%)]\tLoss: 0.147514\n",
      "Train Epoch: 3 [33280/60000 (55%)]\tLoss: 0.141526\n",
      "Train Epoch: 3 [33920/60000 (57%)]\tLoss: 0.048512\n",
      "Train Epoch: 3 [34560/60000 (58%)]\tLoss: 0.109471\n",
      "Train Epoch: 3 [35200/60000 (59%)]\tLoss: 0.100353\n",
      "Train Epoch: 3 [35840/60000 (60%)]\tLoss: 0.149745\n",
      "Train Epoch: 3 [36480/60000 (61%)]\tLoss: 0.120842\n",
      "Train Epoch: 3 [37120/60000 (62%)]\tLoss: 0.188443\n",
      "Train Epoch: 3 [37760/60000 (63%)]\tLoss: 0.233731\n",
      "Train Epoch: 3 [38400/60000 (64%)]\tLoss: 0.161029\n",
      "Train Epoch: 3 [39040/60000 (65%)]\tLoss: 0.148193\n",
      "Train Epoch: 3 [39680/60000 (66%)]\tLoss: 0.083949\n",
      "Train Epoch: 3 [40320/60000 (67%)]\tLoss: 0.261908\n",
      "Train Epoch: 3 [40960/60000 (68%)]\tLoss: 0.151201\n",
      "Train Epoch: 3 [41600/60000 (69%)]\tLoss: 0.143604\n",
      "Train Epoch: 3 [42240/60000 (70%)]\tLoss: 0.045506\n",
      "Train Epoch: 3 [42880/60000 (71%)]\tLoss: 0.302397\n",
      "Train Epoch: 3 [43520/60000 (72%)]\tLoss: 0.143060\n",
      "Train Epoch: 3 [44160/60000 (74%)]\tLoss: 0.166946\n",
      "Train Epoch: 3 [44800/60000 (75%)]\tLoss: 0.190830\n",
      "Train Epoch: 3 [45440/60000 (76%)]\tLoss: 0.231129\n",
      "Train Epoch: 3 [46080/60000 (77%)]\tLoss: 0.128983\n",
      "Train Epoch: 3 [46720/60000 (78%)]\tLoss: 0.050292\n",
      "Train Epoch: 3 [47360/60000 (79%)]\tLoss: 0.254510\n",
      "Train Epoch: 3 [48000/60000 (80%)]\tLoss: 0.161533\n",
      "Train Epoch: 3 [48640/60000 (81%)]\tLoss: 0.146765\n",
      "Train Epoch: 3 [49280/60000 (82%)]\tLoss: 0.148992\n",
      "Train Epoch: 3 [49920/60000 (83%)]\tLoss: 0.253489\n",
      "Train Epoch: 3 [50560/60000 (84%)]\tLoss: 0.081675\n",
      "Train Epoch: 3 [51200/60000 (85%)]\tLoss: 0.217815\n",
      "Train Epoch: 3 [51840/60000 (86%)]\tLoss: 0.149030\n",
      "Train Epoch: 3 [52480/60000 (87%)]\tLoss: 0.377740\n",
      "Train Epoch: 3 [53120/60000 (88%)]\tLoss: 0.080802\n",
      "Train Epoch: 3 [53760/60000 (90%)]\tLoss: 0.305240\n",
      "Train Epoch: 3 [54400/60000 (91%)]\tLoss: 0.182025\n",
      "Train Epoch: 3 [55040/60000 (92%)]\tLoss: 0.164178\n",
      "Train Epoch: 3 [55680/60000 (93%)]\tLoss: 0.183173\n",
      "Train Epoch: 3 [56320/60000 (94%)]\tLoss: 0.440185\n",
      "Train Epoch: 3 [56960/60000 (95%)]\tLoss: 0.195100\n",
      "Train Epoch: 3 [57600/60000 (96%)]\tLoss: 0.180201\n",
      "Train Epoch: 3 [58240/60000 (97%)]\tLoss: 0.313011\n",
      "Train Epoch: 3 [58880/60000 (98%)]\tLoss: 0.271948\n",
      "Train Epoch: 3 [59520/60000 (99%)]\tLoss: 0.260828\n",
      "\n",
      "Test set: Avg. loss: 0.0518, Accuracy: 9836/10000 (98%)\n",
      "\n",
      "time consumer 28.337521076202393\n"
     ]
    }
   ],
   "source": [
    "t0 = time.time()\n",
    "test()\n",
    "for epoch in range(1, n_epochs + 1):\n",
    "  train(epoch)\n",
    "  test()\n",
    "tnow = time.time()\n",
    "print(f\"time consumer {tnow -t0}\")"
   ]
  },
  {
   "cell_type": "code",
   "execution_count": 93,
   "id": "intellectual-combination",
   "metadata": {},
   "outputs": [
    {
     "data": {
      "text/plain": [
       "Text(0, 0.5, 'negative log likelihood loss')"
      ]
     },
     "execution_count": 93,
     "metadata": {},
     "output_type": "execute_result"
    },
    {
     "data": {
      "image/png": "[encoded data removed]",
      "text/plain": [
       "<Figure size 432x288 with 1 Axes>"
      ]
     },
     "metadata": {
      "needs_background": "light"
     },
     "output_type": "display_data"
    }
   ],
   "source": [
    "fig = plt.figure()\n",
    "plt.plot(train_counter, train_losses, color='blue')\n",
    "plt.scatter(test_counter, test_losses[:4], color='red')\n",
    "plt.legend(['Train Loss', 'Test Loss'], loc='upper right')\n",
    "plt.xlabel('number of training examples seen')\n",
    "plt.ylabel('negative log likelihood loss')\n"
   ]
  },
  {
   "cell_type": "code",
   "execution_count": 38,
   "id": "controlled-looking",
   "metadata": {},
   "outputs": [
    {
     "data": {
      "text/plain": [
       "[0, 60000, 120000, 180000]"
      ]
     },
     "execution_count": 38,
     "metadata": {},
     "output_type": "execute_result"
    }
   ],
   "source": [
    "test_counter"
   ]
  },
  {
   "cell_type": "code",
   "execution_count": 39,
   "id": "unlimited-texture",
   "metadata": {},
   "outputs": [
    {
     "data": {
      "text/plain": [
       "[2.308917578125,\n",
       " 2.307491943359375,\n",
       " 0.17562296905517577,\n",
       " 0.09266644973754883,\n",
       " 0.0787955825805664,\n",
       " 0.06971725311279296,\n",
       " 0.06971726264953614,\n",
       " 0.06491416053771973,\n",
       " 0.059481553268432616,\n",
       " 0.05205410041809082]"
      ]
     },
     "execution_count": 39,
     "metadata": {},
     "output_type": "execute_result"
    }
   ],
   "source": [
    "test_losses"
   ]
  },
  {
   "cell_type": "code",
   "execution_count": 42,
   "id": "formed-musician",
   "metadata": {},
   "outputs": [
    {
     "name": "stderr",
     "output_type": "stream",
     "text": [
      "d:\\envs\\pro\\lib\\site-packages\\ipykernel_launcher.py:17: UserWarning: Implicit dimension choice for log_softmax has been deprecated. Change the call to include dim=X as an argument.\n"
     ]
    }
   ],
   "source": [
    "with torch.no_grad():\n",
    "  output = network(example_data)"
   ]
  },
  {
   "cell_type": "code",
   "execution_count": 43,
   "id": "painful-boost",
   "metadata": {},
   "outputs": [
    {
     "data": {
      "image/png": "[encoded data removed]",
      "text/plain": [
       "<Figure size 432x288 with 6 Axes>"
      ]
     },
     "metadata": {},
     "output_type": "display_data"
    }
   ],
   "source": [
    "fig = plt.figure()\n",
    "for i in range(6):\n",
    "  plt.subplot(2,3,i+1)\n",
    "  plt.tight_layout()\n",
    "  plt.imshow(example_data[i][0], cmap='gray', interpolation='none')\n",
    "  plt.title(\"Prediction: {}\".format(\n",
    "    output.data.max(1, keepdim=True)[1][i].item()))\n",
    "  plt.xticks([])\n",
    "  plt.yticks([])"
   ]
  },
  {
   "cell_type": "code",
   "execution_count": null,
   "id": "terminal-correlation",
   "metadata": {},
   "outputs": [],
   "source": []
  }
 ],
 "metadata": {
  "kernelspec": {
   "display_name": "Python 3",
   "language": "python",
   "name": "python3"
  },
  "language_info": {
   "codemirror_mode": {
    "name": "ipython",
    "version": 3
   },
   "file_extension": ".py",
   "mimetype": "text/x-python",
   "name": "python",
   "nbconvert_exporter": "python",
   "pygments_lexer": "ipython3",
   "version": "3.6.8"
  }
 },
 "nbformat": 4,
 "nbformat_minor": 5
}
