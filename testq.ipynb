{
 "cells": [
  {
   "cell_type": "code",
   "execution_count": 1,
   "id": "exciting-transmission",
   "metadata": {},
   "outputs": [],
   "source": [
    "from queue import Queue"
   ]
  },
  {
   "cell_type": "code",
   "execution_count": 4,
   "id": "nominated-rapid",
   "metadata": {},
   "outputs": [],
   "source": [
    "a = Queue()"
   ]
  },
  {
   "cell_type": "code",
   "execution_count": 5,
   "id": "strategic-packet",
   "metadata": {},
   "outputs": [],
   "source": [
    "for x in range(9):\n",
    "    a.put_nowait(x)"
   ]
  },
  {
   "cell_type": "code",
   "execution_count": 8,
   "id": "reduced-hawaii",
   "metadata": {},
   "outputs": [
    {
     "name": "stdout",
     "output_type": "stream",
     "text": [
      "2\n"
     ]
    }
   ],
   "source": [
    "print(a.get())"
   ]
  },
  {
   "cell_type": "code",
   "execution_count": null,
   "id": "gentle-hardware",
   "metadata": {},
   "outputs": [],
   "source": []
  }
 ],
 "metadata": {
  "kernelspec": {
   "display_name": "Python 3",
   "language": "python",
   "name": "python3"
  },
  "language_info": {
   "codemirror_mode": {
    "name": "ipython",
    "version": 3
   },
   "file_extension": ".py",
   "mimetype": "text/x-python",
   "name": "python",
   "nbconvert_exporter": "python",
   "pygments_lexer": "ipython3",
   "version": "3.6.8"
  }
 },
 "nbformat": 4,
 "nbformat_minor": 5
}
